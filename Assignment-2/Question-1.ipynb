{
 "cells": [
  {
   "cell_type": "code",
   "execution_count": 1,
   "metadata": {},
   "outputs": [],
   "source": [
    "import numpy as np\n",
    "import pandas as pd\n",
    "import matplotlib.pyplot as plt\n",
    "from utils import MahalanobisDistance, LOF"
   ]
  },
  {
   "attachments": {},
   "cell_type": "markdown",
   "metadata": {},
   "source": [
    "### **Loading the Data**\n",
    "\n",
    "The given data is loaded from the `.csv` format and converted into a pandas dataframe. To verify if the data is loaded correctly, check the first five rows (head) of the dataframe. \n",
    "If this step fails, the loading of the data is incorrect."
   ]
  },
  {
   "cell_type": "code",
   "execution_count": 2,
   "metadata": {},
   "outputs": [
    {
     "data": {
      "text/html": [
       "<div>\n",
       "<style scoped>\n",
       "    .dataframe tbody tr th:only-of-type {\n",
       "        vertical-align: middle;\n",
       "    }\n",
       "\n",
       "    .dataframe tbody tr th {\n",
       "        vertical-align: top;\n",
       "    }\n",
       "\n",
       "    .dataframe thead th {\n",
       "        text-align: right;\n",
       "    }\n",
       "</style>\n",
       "<table border=\"1\" class=\"dataframe\">\n",
       "  <thead>\n",
       "    <tr style=\"text-align: right;\">\n",
       "      <th></th>\n",
       "      <th>RI</th>\n",
       "      <th>Na</th>\n",
       "      <th>Mg</th>\n",
       "      <th>Al</th>\n",
       "      <th>Si</th>\n",
       "      <th>K</th>\n",
       "      <th>Ca</th>\n",
       "      <th>Ba</th>\n",
       "      <th>Fe</th>\n",
       "      <th>Type</th>\n",
       "    </tr>\n",
       "  </thead>\n",
       "  <tbody>\n",
       "    <tr>\n",
       "      <th>0</th>\n",
       "      <td>1.52101</td>\n",
       "      <td>13.64</td>\n",
       "      <td>4.49</td>\n",
       "      <td>1.10</td>\n",
       "      <td>71.78</td>\n",
       "      <td>0.06</td>\n",
       "      <td>8.75</td>\n",
       "      <td>0.0</td>\n",
       "      <td>0.0</td>\n",
       "      <td>1</td>\n",
       "    </tr>\n",
       "    <tr>\n",
       "      <th>1</th>\n",
       "      <td>1.51761</td>\n",
       "      <td>13.89</td>\n",
       "      <td>3.60</td>\n",
       "      <td>1.36</td>\n",
       "      <td>72.73</td>\n",
       "      <td>0.48</td>\n",
       "      <td>7.83</td>\n",
       "      <td>0.0</td>\n",
       "      <td>0.0</td>\n",
       "      <td>1</td>\n",
       "    </tr>\n",
       "    <tr>\n",
       "      <th>2</th>\n",
       "      <td>1.51618</td>\n",
       "      <td>13.53</td>\n",
       "      <td>3.55</td>\n",
       "      <td>1.54</td>\n",
       "      <td>72.99</td>\n",
       "      <td>0.39</td>\n",
       "      <td>7.78</td>\n",
       "      <td>0.0</td>\n",
       "      <td>0.0</td>\n",
       "      <td>1</td>\n",
       "    </tr>\n",
       "    <tr>\n",
       "      <th>3</th>\n",
       "      <td>1.51766</td>\n",
       "      <td>13.21</td>\n",
       "      <td>3.69</td>\n",
       "      <td>1.29</td>\n",
       "      <td>72.61</td>\n",
       "      <td>0.57</td>\n",
       "      <td>8.22</td>\n",
       "      <td>0.0</td>\n",
       "      <td>0.0</td>\n",
       "      <td>1</td>\n",
       "    </tr>\n",
       "    <tr>\n",
       "      <th>4</th>\n",
       "      <td>1.51742</td>\n",
       "      <td>13.27</td>\n",
       "      <td>3.62</td>\n",
       "      <td>1.24</td>\n",
       "      <td>73.08</td>\n",
       "      <td>0.55</td>\n",
       "      <td>8.07</td>\n",
       "      <td>0.0</td>\n",
       "      <td>0.0</td>\n",
       "      <td>1</td>\n",
       "    </tr>\n",
       "  </tbody>\n",
       "</table>\n",
       "</div>"
      ],
      "text/plain": [
       "        RI     Na    Mg    Al     Si     K    Ca   Ba   Fe  Type\n",
       "0  1.52101  13.64  4.49  1.10  71.78  0.06  8.75  0.0  0.0     1\n",
       "1  1.51761  13.89  3.60  1.36  72.73  0.48  7.83  0.0  0.0     1\n",
       "2  1.51618  13.53  3.55  1.54  72.99  0.39  7.78  0.0  0.0     1\n",
       "3  1.51766  13.21  3.69  1.29  72.61  0.57  8.22  0.0  0.0     1\n",
       "4  1.51742  13.27  3.62  1.24  73.08  0.55  8.07  0.0  0.0     1"
      ]
     },
     "execution_count": 2,
     "metadata": {},
     "output_type": "execute_result"
    }
   ],
   "source": [
    "# Load the data\n",
    "path: str = r\"Datasets\\Question-1\\glass.csv\"\n",
    "df: pd.DataFrame = pd.read_csv(path)\n",
    "df.head()"
   ]
  },
  {
   "attachments": {},
   "cell_type": "markdown",
   "metadata": {},
   "source": [
    "### **Preprocessing the Data**\n",
    "\n",
    "Since the entire data is numerical, we preprocess the data to remove empty rows and standardize it."
   ]
  },
  {
   "cell_type": "code",
   "execution_count": 3,
   "metadata": {},
   "outputs": [],
   "source": [
    "# Drop the nan rows\n",
    "df.dropna(inplace=True)"
   ]
  },
  {
   "cell_type": "code",
   "execution_count": 4,
   "metadata": {},
   "outputs": [
    {
     "data": {
      "text/html": [
       "<div>\n",
       "<style scoped>\n",
       "    .dataframe tbody tr th:only-of-type {\n",
       "        vertical-align: middle;\n",
       "    }\n",
       "\n",
       "    .dataframe tbody tr th {\n",
       "        vertical-align: top;\n",
       "    }\n",
       "\n",
       "    .dataframe thead th {\n",
       "        text-align: right;\n",
       "    }\n",
       "</style>\n",
       "<table border=\"1\" class=\"dataframe\">\n",
       "  <thead>\n",
       "    <tr style=\"text-align: right;\">\n",
       "      <th></th>\n",
       "      <th>RI</th>\n",
       "      <th>Na</th>\n",
       "      <th>Mg</th>\n",
       "      <th>Al</th>\n",
       "      <th>Si</th>\n",
       "      <th>K</th>\n",
       "      <th>Ca</th>\n",
       "      <th>Ba</th>\n",
       "      <th>Fe</th>\n",
       "      <th>Type</th>\n",
       "    </tr>\n",
       "  </thead>\n",
       "  <tbody>\n",
       "    <tr>\n",
       "      <th>0</th>\n",
       "      <td>0.870826</td>\n",
       "      <td>0.284287</td>\n",
       "      <td>1.251704</td>\n",
       "      <td>-0.690822</td>\n",
       "      <td>-1.124446</td>\n",
       "      <td>-0.670134</td>\n",
       "      <td>-0.145425</td>\n",
       "      <td>-0.352051</td>\n",
       "      <td>-0.585079</td>\n",
       "      <td>1</td>\n",
       "    </tr>\n",
       "    <tr>\n",
       "      <th>1</th>\n",
       "      <td>-0.248750</td>\n",
       "      <td>0.590433</td>\n",
       "      <td>0.634680</td>\n",
       "      <td>-0.170061</td>\n",
       "      <td>0.102080</td>\n",
       "      <td>-0.026152</td>\n",
       "      <td>-0.791877</td>\n",
       "      <td>-0.352051</td>\n",
       "      <td>-0.585079</td>\n",
       "      <td>1</td>\n",
       "    </tr>\n",
       "    <tr>\n",
       "      <th>2</th>\n",
       "      <td>-0.719631</td>\n",
       "      <td>0.149582</td>\n",
       "      <td>0.600016</td>\n",
       "      <td>0.190465</td>\n",
       "      <td>0.437760</td>\n",
       "      <td>-0.164148</td>\n",
       "      <td>-0.827010</td>\n",
       "      <td>-0.352051</td>\n",
       "      <td>-0.585079</td>\n",
       "      <td>1</td>\n",
       "    </tr>\n",
       "    <tr>\n",
       "      <th>3</th>\n",
       "      <td>-0.232286</td>\n",
       "      <td>-0.242285</td>\n",
       "      <td>0.697076</td>\n",
       "      <td>-0.310266</td>\n",
       "      <td>-0.052850</td>\n",
       "      <td>0.111844</td>\n",
       "      <td>-0.517838</td>\n",
       "      <td>-0.352051</td>\n",
       "      <td>-0.585079</td>\n",
       "      <td>1</td>\n",
       "    </tr>\n",
       "    <tr>\n",
       "      <th>4</th>\n",
       "      <td>-0.311315</td>\n",
       "      <td>-0.168810</td>\n",
       "      <td>0.648546</td>\n",
       "      <td>-0.410413</td>\n",
       "      <td>0.553957</td>\n",
       "      <td>0.081178</td>\n",
       "      <td>-0.623237</td>\n",
       "      <td>-0.352051</td>\n",
       "      <td>-0.585079</td>\n",
       "      <td>1</td>\n",
       "    </tr>\n",
       "  </tbody>\n",
       "</table>\n",
       "</div>"
      ],
      "text/plain": [
       "         RI        Na        Mg        Al        Si         K        Ca  \\\n",
       "0  0.870826  0.284287  1.251704 -0.690822 -1.124446 -0.670134 -0.145425   \n",
       "1 -0.248750  0.590433  0.634680 -0.170061  0.102080 -0.026152 -0.791877   \n",
       "2 -0.719631  0.149582  0.600016  0.190465  0.437760 -0.164148 -0.827010   \n",
       "3 -0.232286 -0.242285  0.697076 -0.310266 -0.052850  0.111844 -0.517838   \n",
       "4 -0.311315 -0.168810  0.648546 -0.410413  0.553957  0.081178 -0.623237   \n",
       "\n",
       "         Ba        Fe  Type  \n",
       "0 -0.352051 -0.585079     1  \n",
       "1 -0.352051 -0.585079     1  \n",
       "2 -0.352051 -0.585079     1  \n",
       "3 -0.352051 -0.585079     1  \n",
       "4 -0.352051 -0.585079     1  "
      ]
     },
     "execution_count": 4,
     "metadata": {},
     "output_type": "execute_result"
    }
   ],
   "source": [
    "# Standardize the data\n",
    "target = df[\"Type\"]\n",
    "df.drop(\"Type\", axis=1, inplace=True)\n",
    "df = (df - df.mean()) / df.std()\n",
    "df[\"Type\"] = target\n",
    "df.head()"
   ]
  },
  {
   "cell_type": "code",
   "execution_count": 5,
   "metadata": {},
   "outputs": [],
   "source": [
    "features =  df.drop(\"Type\", axis=1).values\n",
    "target = df[\"Type\"]"
   ]
  },
  {
   "attachments": {},
   "cell_type": "markdown",
   "metadata": {},
   "source": [
    "### **Data Analysis**\n",
    "\n",
    "The data is plotted on graphs to find our patterns and relationships among the features."
   ]
  },
  {
   "cell_type": "code",
   "execution_count": 6,
   "metadata": {},
   "outputs": [
    {
     "data": {
      "image/png": "[encoded data removed]",
      "text/plain": [
       "<Figure size 1200x800 with 9 Axes>"
      ]
     },
     "metadata": {},
     "output_type": "display_data"
    }
   ],
   "source": [
    "plot = plt.figure(figsize=(12, 8))\n",
    "\n",
    "for i, col in enumerate(df.columns, start=1):\n",
    "    if col == \"Type\":\n",
    "        continue\n",
    "    else:\n",
    "        plt.subplot(3, 3, i)\n",
    "\n",
    "    for j in range(1, 8):\n",
    "        plt.hist(df[df[\"Type\"] == j][col], bins=20, alpha=0.45, label=f\"target = {j}\")\n",
    "\n",
    "    plt.xlabel(col)\n",
    "\n",
    "    plt.ylabel(\"Number of Samples\")\n",
    "    plt.grid(True)\n",
    "\n",
    "plt.show()"
   ]
  },
  {
   "attachments": {},
   "cell_type": "markdown",
   "metadata": {},
   "source": [
    "## **Outlier Detection**\n",
    "\n",
    "We use two techniques to detect outliers in the data, namely the **Mahalanobis Distance** and **Local Outlier Factor** algorithms."
   ]
  },
  {
   "attachments": {},
   "cell_type": "markdown",
   "metadata": {},
   "source": [
    "### **Mahalanobis Distance for Outlier Detection**\n",
    "\n",
    "The `MahalanobisDistance` implemented in `utils.py` is used to calculate the Mahalanobis Distance of each point in the dataset from the mean of the dataset. The points with the highest Mahalanobis Distances are generally considered to be outliers."
   ]
  },
  {
   "cell_type": "code",
   "execution_count": 7,
   "metadata": {},
   "outputs": [
    {
     "data": {
      "text/plain": [
       "(214,)"
      ]
     },
     "execution_count": 7,
     "metadata": {},
     "output_type": "execute_result"
    }
   ],
   "source": [
    "# Detect the anomalies\n",
    "mhb = MahalanobisDistance(features)\n",
    "\n",
    "# Get the distances\n",
    "mhb_dist = mhb.distances()\n",
    "mhb_dist.shape"
   ]
  },
  {
   "attachments": {},
   "cell_type": "markdown",
   "metadata": {},
   "source": [
    "### **Local Outlier Factor for Outlier Detection**\n",
    "\n",
    "The `LOF` implemented in `utils.py` is used to calculate the Local Outlier Factor of each point in the dataset. The points with the highest LOFs ($LOF \\gg 1$) are generally considered to be outliers."
   ]
  },
  {
   "cell_type": "code",
   "execution_count": 8,
   "metadata": {},
   "outputs": [
    {
     "data": {
      "text/plain": [
       "(214,)"
      ]
     },
     "execution_count": 8,
     "metadata": {},
     "output_type": "execute_result"
    }
   ],
   "source": [
    "lof = LOF(features, k=3, min_pts=5)\n",
    "lof_dist = lof.lofs()\n",
    "lof_dist.shape"
   ]
  },
  {
   "attachments": {},
   "cell_type": "markdown",
   "metadata": {},
   "source": [
    "### **Threshold Calculation using Otsu Thresholding**\n",
    "\n",
    "Hacing calculated the Mahalanobis Distances and Local Outlier Factors of the data, we use `OtsuThresholding` implemented in `utils.py` to calculate the threshold for the Mahalanobis Distances and LOFs. The points with Mahalanobis Distances and LOFss greater than the threshold are considered to be outliers."
   ]
  }
 ],
 "metadata": {
  "kernelspec": {
   "display_name": "Python 3",
   "language": "python",
   "name": "python3"
  },
  "language_info": {
   "codemirror_mode": {
    "name": "ipython",
    "version": 3
   },
   "file_extension": ".py",
   "mimetype": "text/x-python",
   "name": "python",
   "nbconvert_exporter": "python",
   "pygments_lexer": "ipython3",
   "version": "3.11.0"
  },
  "orig_nbformat": 4
 },
 "nbformat": 4,
 "nbformat_minor": 2
}
