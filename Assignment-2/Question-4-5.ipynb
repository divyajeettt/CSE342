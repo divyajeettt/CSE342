{
 "cells": [
  {
   "cell_type": "code",
   "execution_count": 1,
   "metadata": {},
   "outputs": [],
   "source": [
    "import numpy as np\n",
    "import pandas as pd\n",
    "from sklearn import datasets\n",
    "import matplotlib.pyplot as plt\n",
    "from utils import LDA, LogisticRegression\n",
    "from sklearn.neighbors import KNeighborsClassifier as KNN"
   ]
  },
  {
   "attachments": {},
   "cell_type": "markdown",
   "metadata": {},
   "source": [
    "## **Loading the Data**\n",
    "\n",
    "The IRIS dataset is loaded from the `sklearn.datasets` package as a pandas dataframe. To verify if the data is loaded correctly, check the first five rows (head) of the dataframe.\n",
    "If this step fails, the loading of the data is incorrect."
   ]
  },
  {
   "cell_type": "code",
   "execution_count": 2,
   "metadata": {},
   "outputs": [
    {
     "data": {
      "text/html": [
       "<div>\n",
       "<style scoped>\n",
       "    .dataframe tbody tr th:only-of-type {\n",
       "        vertical-align: middle;\n",
       "    }\n",
       "\n",
       "    .dataframe tbody tr th {\n",
       "        vertical-align: top;\n",
       "    }\n",
       "\n",
       "    .dataframe thead th {\n",
       "        text-align: right;\n",
       "    }\n",
       "</style>\n",
       "<table border=\"1\" class=\"dataframe\">\n",
       "  <thead>\n",
       "    <tr style=\"text-align: right;\">\n",
       "      <th></th>\n",
       "      <th>sepal length (cm)</th>\n",
       "      <th>sepal width (cm)</th>\n",
       "      <th>petal length (cm)</th>\n",
       "      <th>petal width (cm)</th>\n",
       "      <th>target</th>\n",
       "    </tr>\n",
       "  </thead>\n",
       "  <tbody>\n",
       "    <tr>\n",
       "      <th>0</th>\n",
       "      <td>5.1</td>\n",
       "      <td>3.5</td>\n",
       "      <td>1.4</td>\n",
       "      <td>0.2</td>\n",
       "      <td>0</td>\n",
       "    </tr>\n",
       "    <tr>\n",
       "      <th>1</th>\n",
       "      <td>4.9</td>\n",
       "      <td>3.0</td>\n",
       "      <td>1.4</td>\n",
       "      <td>0.2</td>\n",
       "      <td>0</td>\n",
       "    </tr>\n",
       "    <tr>\n",
       "      <th>2</th>\n",
       "      <td>4.7</td>\n",
       "      <td>3.2</td>\n",
       "      <td>1.3</td>\n",
       "      <td>0.2</td>\n",
       "      <td>0</td>\n",
       "    </tr>\n",
       "    <tr>\n",
       "      <th>3</th>\n",
       "      <td>4.6</td>\n",
       "      <td>3.1</td>\n",
       "      <td>1.5</td>\n",
       "      <td>0.2</td>\n",
       "      <td>0</td>\n",
       "    </tr>\n",
       "    <tr>\n",
       "      <th>4</th>\n",
       "      <td>5.0</td>\n",
       "      <td>3.6</td>\n",
       "      <td>1.4</td>\n",
       "      <td>0.2</td>\n",
       "      <td>0</td>\n",
       "    </tr>\n",
       "  </tbody>\n",
       "</table>\n",
       "</div>"
      ],
      "text/plain": [
       "   sepal length (cm)  sepal width (cm)  petal length (cm)  petal width (cm)  \\\n",
       "0                5.1               3.5                1.4               0.2   \n",
       "1                4.9               3.0                1.4               0.2   \n",
       "2                4.7               3.2                1.3               0.2   \n",
       "3                4.6               3.1                1.5               0.2   \n",
       "4                5.0               3.6                1.4               0.2   \n",
       "\n",
       "   target  \n",
       "0       0  \n",
       "1       0  \n",
       "2       0  \n",
       "3       0  \n",
       "4       0  "
      ]
     },
     "execution_count": 2,
     "metadata": {},
     "output_type": "execute_result"
    }
   ],
   "source": [
    "# Load the data\n",
    "data: dict[str, np.ndarray] = datasets.load_iris()\n",
    "df: pd.DataFrame = pd.DataFrame(data=data[\"data\"], columns=data[\"feature_names\"])\n",
    "df[\"target\"] = data[\"target\"]\n",
    "df.head()"
   ]
  },
  {
   "attachments": {},
   "cell_type": "markdown",
   "metadata": {},
   "source": [
    "### **Preprocessing the Data**\n",
    "\n",
    "The data is preprocessed to remove the unwanted columns and null values."
   ]
  },
  {
   "cell_type": "code",
   "execution_count": 3,
   "metadata": {},
   "outputs": [],
   "source": [
    "# Drop the nan rows\n",
    "df.dropna(inplace=True)"
   ]
  },
  {
   "cell_type": "code",
   "execution_count": 4,
   "metadata": {},
   "outputs": [
    {
     "data": {
      "text/html": [
       "<div>\n",
       "<style scoped>\n",
       "    .dataframe tbody tr th:only-of-type {\n",
       "        vertical-align: middle;\n",
       "    }\n",
       "\n",
       "    .dataframe tbody tr th {\n",
       "        vertical-align: top;\n",
       "    }\n",
       "\n",
       "    .dataframe thead th {\n",
       "        text-align: right;\n",
       "    }\n",
       "</style>\n",
       "<table border=\"1\" class=\"dataframe\">\n",
       "  <thead>\n",
       "    <tr style=\"text-align: right;\">\n",
       "      <th></th>\n",
       "      <th>sepal length (cm)</th>\n",
       "      <th>sepal width (cm)</th>\n",
       "      <th>petal length (cm)</th>\n",
       "      <th>petal width (cm)</th>\n",
       "      <th>target</th>\n",
       "    </tr>\n",
       "  </thead>\n",
       "  <tbody>\n",
       "    <tr>\n",
       "      <th>0</th>\n",
       "      <td>-0.897674</td>\n",
       "      <td>1.015602</td>\n",
       "      <td>-1.335752</td>\n",
       "      <td>-1.311052</td>\n",
       "      <td>0</td>\n",
       "    </tr>\n",
       "    <tr>\n",
       "      <th>1</th>\n",
       "      <td>-1.139200</td>\n",
       "      <td>-0.131539</td>\n",
       "      <td>-1.335752</td>\n",
       "      <td>-1.311052</td>\n",
       "      <td>0</td>\n",
       "    </tr>\n",
       "    <tr>\n",
       "      <th>2</th>\n",
       "      <td>-1.380727</td>\n",
       "      <td>0.327318</td>\n",
       "      <td>-1.392399</td>\n",
       "      <td>-1.311052</td>\n",
       "      <td>0</td>\n",
       "    </tr>\n",
       "    <tr>\n",
       "      <th>3</th>\n",
       "      <td>-1.501490</td>\n",
       "      <td>0.097889</td>\n",
       "      <td>-1.279104</td>\n",
       "      <td>-1.311052</td>\n",
       "      <td>0</td>\n",
       "    </tr>\n",
       "    <tr>\n",
       "      <th>4</th>\n",
       "      <td>-1.018437</td>\n",
       "      <td>1.245030</td>\n",
       "      <td>-1.335752</td>\n",
       "      <td>-1.311052</td>\n",
       "      <td>0</td>\n",
       "    </tr>\n",
       "  </tbody>\n",
       "</table>\n",
       "</div>"
      ],
      "text/plain": [
       "   sepal length (cm)  sepal width (cm)  petal length (cm)  petal width (cm)  \\\n",
       "0          -0.897674          1.015602          -1.335752         -1.311052   \n",
       "1          -1.139200         -0.131539          -1.335752         -1.311052   \n",
       "2          -1.380727          0.327318          -1.392399         -1.311052   \n",
       "3          -1.501490          0.097889          -1.279104         -1.311052   \n",
       "4          -1.018437          1.245030          -1.335752         -1.311052   \n",
       "\n",
       "   target  \n",
       "0       0  \n",
       "1       0  \n",
       "2       0  \n",
       "3       0  \n",
       "4       0  "
      ]
     },
     "execution_count": 4,
     "metadata": {},
     "output_type": "execute_result"
    }
   ],
   "source": [
    "# Standardize the data\n",
    "outcome = df[\"target\"]\n",
    "df.drop(\"target\", axis=1, inplace=True)\n",
    "df = (df - df.mean()) / df.std()\n",
    "df[\"target\"] = outcome\n",
    "df.head()"
   ]
  },
  {
   "attachments": {},
   "cell_type": "markdown",
   "metadata": {},
   "source": [
    "### **Data Analysis**\n",
    "\n",
    "The data is plotted on graphs to find our patterns and relationships among the features."
   ]
  },
  {
   "cell_type": "code",
   "execution_count": 5,
   "metadata": {},
   "outputs": [
    {
     "data": {
      "image/png": "[encoded data removed]",
      "text/plain": [
       "<Figure size 1200x800 with 4 Axes>"
      ]
     },
     "metadata": {},
     "output_type": "display_data"
    }
   ],
   "source": [
    "plot = plt.figure(figsize=(12, 8))\n",
    "\n",
    "for i, col in enumerate(df.columns, start=1):\n",
    "    if col == \"target\":\n",
    "        continue\n",
    "    else:\n",
    "        plt.subplot(2, 2, i)\n",
    "\n",
    "    plt.hist(df[df[\"target\"] == 0][col], bins=20, alpha=0.65, label=\"target = 0\")\n",
    "    plt.hist(df[df[\"target\"] == 1][col], bins=20, alpha=0.65, label=\"target = 1\")\n",
    "    plt.hist(df[df[\"target\"] == 2][col], bins=20, alpha=0.65, label=\"target = 2\")\n",
    "\n",
    "    plt.xlabel(col)\n",
    "\n",
    "    plt.ylabel(\"Number of Samples\")\n",
    "    plt.grid(True)\n",
    "    plt.legend()\n",
    "\n",
    "plt.show()"
   ]
  },
  {
   "attachments": {},
   "cell_type": "markdown",
   "metadata": {},
   "source": [
    "## **Train-Test Split**\n",
    "\n",
    "Since the test set is not provided, the training set is split into test sets using a randomized 80-20 split."
   ]
  },
  {
   "cell_type": "code",
   "execution_count": 6,
   "metadata": {},
   "outputs": [],
   "source": [
    "# Shuffle the data\n",
    "train_size: int = int(0.8 * df.shape[0])\n",
    "df = df.sample(frac=1).reset_index(drop=True)\n",
    "\n",
    "# Split the data into training and testing\n",
    "x_train: np.ndarray = df.iloc[:train_size, :-1].values\n",
    "y_train: np.ndarray = df.iloc[:train_size, -1].values\n",
    "x_test: np.ndarray = df.iloc[train_size:, :-1].values\n",
    "y_test: np.ndarray = df.iloc[train_size:, -1].values"
   ]
  },
  {
   "attachments": {},
   "cell_type": "markdown",
   "metadata": {},
   "source": [
    "### **Perform $k$-Nearest Neighbours**\n",
    "\n",
    "Having preprocessed and analysed the data, we now perform the $k$-NN algorithm on the original data to get predictions on the test data using $k = 5$.\n",
    "\n",
    "The accuracy of the model is also calculated."
   ]
  },
  {
   "cell_type": "code",
   "execution_count": 7,
   "metadata": {},
   "outputs": [
    {
     "name": "stdout",
     "output_type": "stream",
     "text": [
      "Accuracy: 90.0%\n"
     ]
    }
   ],
   "source": [
    "# Train the model\n",
    "knn = KNN(n_neighbors=5)\n",
    "knn.fit(x_train, y_train)\n",
    "\n",
    "# Check the accuracy\n",
    "print(f\"Accuracy: {knn.score(x_test, y_test) * 100}%\")"
   ]
  },
  {
   "attachments": {},
   "cell_type": "markdown",
   "metadata": {},
   "source": [
    "### **Dimensionality Reduction using LDA**\n",
    "\n",
    "A copy of the training and testing data is made and its dimensionality is reduced using `LDA` implemented in `utils.py`.\n",
    "\n",
    "$k$-NN is used on the reduced data to get predictions on the test data using $k = 5$ and the accuracy of both the runs is compared."
   ]
  },
  {
   "cell_type": "code",
   "execution_count": 8,
   "metadata": {},
   "outputs": [
    {
     "name": "stdout",
     "output_type": "stream",
     "text": [
      "Transformed Training Data using LDA\n",
      "Transformed Testing Data using LDA\n"
     ]
    }
   ],
   "source": [
    "# Fit the training data using LDA\n",
    "trainer = LDA(x_train, y_train)\n",
    "lda_train = trainer.transform()\n",
    "print(\"Transformed Training Data using LDA\")\n",
    "\n",
    "# Fit the testing data using LDA\n",
    "tester = LDA(x_test, y_test)\n",
    "lda_test = tester.transform()\n",
    "print(\"Transformed Testing Data using LDA\")"
   ]
  },
  {
   "cell_type": "code",
   "execution_count": 9,
   "metadata": {},
   "outputs": [
    {
     "data": {
      "image/png": "[encoded data removed]",
      "text/plain": [
       "<Figure size 640x480 with 1 Axes>"
      ]
     },
     "metadata": {},
     "output_type": "display_data"
    }
   ],
   "source": [
    "# Plot the data\n",
    "plt.hist(lda_train[y_train == 0].real, label=\"target = 0\", alpha=0.75, bins=30)\n",
    "plt.hist(lda_train[y_train == 1].real, label=\"target = 1\", alpha=0.75, bins=30)\n",
    "plt.hist(lda_train[y_train == 2].real, label=\"target = 2\", alpha=0.75, bins=30)\n",
    "plt.xlabel(\"LDA\")\n",
    "plt.ylabel(\"Number of Samples\")\n",
    "plt.grid(True)\n",
    "plt.legend()\n",
    "plt.show()"
   ]
  },
  {
   "cell_type": "code",
   "execution_count": 10,
   "metadata": {},
   "outputs": [
    {
     "name": "stdout",
     "output_type": "stream",
     "text": [
      "Accuracy: 96.66666666666667%\n"
     ]
    }
   ],
   "source": [
    "# Train the model for the data\n",
    "lda_train = np.real(lda_train.reshape(-1, 1))\n",
    "knn = KNN(n_neighbors=5)\n",
    "knn.fit(lda_train, y_train)\n",
    "\n",
    "# Calculate the accuracy\n",
    "lda_test = np.real(lda_test.reshape(-1, 1))\n",
    "print(f\"Accuracy: {knn.score(lda_test, y_test) * 100}%\")"
   ]
  },
  {
   "attachments": {},
   "cell_type": "markdown",
   "metadata": {},
   "source": [
    "## **Extension of Logistic Regression**\n",
    "\n",
    "Logistic Regression is generally used for learned binary classification. However, it can be extended to multi-class classification by using two popular approaches:\n",
    "\n",
    "- **One-vs-Rest Approach:** In this approach, $N$ binary logistic classifiers are trained, where $N$ is the number of labels. Each classifier is trained to distinguish between one class and the rest of the classes. The class with the highest probability is chosen as the predicted class.\n",
    "\n",
    "- **Multinomial Regression:** This is a more natural extension, and only requires a single classifier to be trained. The classifier is trained on one-hot encoded labels (i.e. each label is represented as a vector of length $N$, where $N$ is the number of labels, and only one element is 1, and the rest are 0). Separate weights are trained for each class, and the class with the highest probability is chosen as the predicted class.\n",
    "\n",
    "For this question, **Multinomial Regression** has been used for the IRIS dataset."
   ]
  },
  {
   "attachments": {},
   "cell_type": "markdown",
   "metadata": {},
   "source": [
    "### **Perform Multinomial Logistic Regression**\n",
    "\n",
    "The Logistic Regression that solves a binary classification problem can be extended to a multi-class classification problem using the Multinomial approach. To use this approach, the data labels are one-hot encoded. The training labels are hence converted to multi-dimensional vectors.\n",
    "\n",
    "The `LogisticRegression` class in `utils.py` is a very primitive implementation of the multinomial appproach, and is used to perform classification on the data.\n",
    "\n",
    "The accuracy of the model is also calculated."
   ]
  },
  {
   "cell_type": "code",
   "execution_count": 11,
   "metadata": {},
   "outputs": [],
   "source": [
    "y_train = np.array((y_train == 0, y_train == 1, y_train == 2)).T"
   ]
  },
  {
   "cell_type": "code",
   "execution_count": 12,
   "metadata": {},
   "outputs": [
    {
     "name": "stdout",
     "output_type": "stream",
     "text": [
      "Accuracy: 90.0%\n"
     ]
    }
   ],
   "source": [
    "# Train the model for the data\n",
    "model = LogisticRegression(x_train, y_train, alpha=1e-3, tol=1e-4, max_iters=1e+7)\n",
    "model.train()\n",
    "\n",
    "# Calculate the accuracy\n",
    "print(f\"Accuracy: {model.accuracy(x_test, y_test) * 100}%\")"
   ]
  },
  {
   "attachments": {},
   "cell_type": "markdown",
   "metadata": {},
   "source": [
    "## **Comparing the Results**\n",
    "\n",
    "Over multiple runs, it was observed that the accuracy was usually higher with $k$-NN applied on the LDA-preprocessed data. This is because the LDA algorithm finds the best linear combination of features that maximizes the separation between the classes.\n",
    "\n",
    "However, the LDA+$k$-NN model is highly sensitive due to the small size of the dataset, and the accuracy of the model can vary drastically depending on the random split of the data into training and testing sets.\n",
    "\n",
    "The logistic regression model is also highly sensitive to the random train-test split, but is comparitively more stable and almost always performs very well."
   ]
  }
 ],
 "metadata": {
  "kernelspec": {
   "display_name": "Python 3",
   "language": "python",
   "name": "python3"
  },
  "language_info": {
   "codemirror_mode": {
    "name": "ipython",
    "version": 3
   },
   "file_extension": ".py",
   "mimetype": "text/x-python",
   "name": "python",
   "nbconvert_exporter": "python",
   "pygments_lexer": "ipython3",
   "version": "3.11.0"
  },
  "orig_nbformat": 4
 },
 "nbformat": 4,
 "nbformat_minor": 2
}
