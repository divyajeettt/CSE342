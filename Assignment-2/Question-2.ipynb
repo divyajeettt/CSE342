{
 "cells": [
  {
   "cell_type": "code",
   "execution_count": 1,
   "metadata": {},
   "outputs": [],
   "source": [
    "import numpy as np\n",
    "import pandas as pd\n",
    "import matplotlib.pyplot as plt\n",
    "from sklearn.decomposition import PCA\n",
    "from utils import LogisticRegression, FDA"
   ]
  },
  {
   "attachments": {},
   "cell_type": "markdown",
   "metadata": {},
   "source": [
    "### **Loading the Data**\n",
    "\n",
    "The given data is loaded from the `.csv` format and converted into a pandas dataframe. To verify if the data is loaded correctly, check the first five rows (head) of the dataframe. \n",
    "If this step fails, the loading of the data is incorrect."
   ]
  },
  {
   "cell_type": "code",
   "execution_count": 2,
   "metadata": {},
   "outputs": [
    {
     "data": {
      "text/html": [
       "<div>\n",
       "<style scoped>\n",
       "    .dataframe tbody tr th:only-of-type {\n",
       "        vertical-align: middle;\n",
       "    }\n",
       "\n",
       "    .dataframe tbody tr th {\n",
       "        vertical-align: top;\n",
       "    }\n",
       "\n",
       "    .dataframe thead th {\n",
       "        text-align: right;\n",
       "    }\n",
       "</style>\n",
       "<table border=\"1\" class=\"dataframe\">\n",
       "  <thead>\n",
       "    <tr style=\"text-align: right;\">\n",
       "      <th></th>\n",
       "      <th>Unnamed: 0</th>\n",
       "      <th>Age</th>\n",
       "      <th>Sex</th>\n",
       "      <th>ChestPain</th>\n",
       "      <th>RestBP</th>\n",
       "      <th>Chol</th>\n",
       "      <th>Fbs</th>\n",
       "      <th>RestECG</th>\n",
       "      <th>MaxHR</th>\n",
       "      <th>ExAng</th>\n",
       "      <th>Oldpeak</th>\n",
       "      <th>Slope</th>\n",
       "      <th>Ca</th>\n",
       "      <th>Thal</th>\n",
       "      <th>AHD</th>\n",
       "    </tr>\n",
       "  </thead>\n",
       "  <tbody>\n",
       "    <tr>\n",
       "      <th>0</th>\n",
       "      <td>1</td>\n",
       "      <td>63</td>\n",
       "      <td>1</td>\n",
       "      <td>typical</td>\n",
       "      <td>145</td>\n",
       "      <td>233</td>\n",
       "      <td>1</td>\n",
       "      <td>2</td>\n",
       "      <td>150</td>\n",
       "      <td>0</td>\n",
       "      <td>2.3</td>\n",
       "      <td>3</td>\n",
       "      <td>0.0</td>\n",
       "      <td>fixed</td>\n",
       "      <td>No</td>\n",
       "    </tr>\n",
       "    <tr>\n",
       "      <th>1</th>\n",
       "      <td>2</td>\n",
       "      <td>67</td>\n",
       "      <td>1</td>\n",
       "      <td>asymptomatic</td>\n",
       "      <td>160</td>\n",
       "      <td>286</td>\n",
       "      <td>0</td>\n",
       "      <td>2</td>\n",
       "      <td>108</td>\n",
       "      <td>1</td>\n",
       "      <td>1.5</td>\n",
       "      <td>2</td>\n",
       "      <td>3.0</td>\n",
       "      <td>normal</td>\n",
       "      <td>Yes</td>\n",
       "    </tr>\n",
       "    <tr>\n",
       "      <th>2</th>\n",
       "      <td>3</td>\n",
       "      <td>67</td>\n",
       "      <td>1</td>\n",
       "      <td>asymptomatic</td>\n",
       "      <td>120</td>\n",
       "      <td>229</td>\n",
       "      <td>0</td>\n",
       "      <td>2</td>\n",
       "      <td>129</td>\n",
       "      <td>1</td>\n",
       "      <td>2.6</td>\n",
       "      <td>2</td>\n",
       "      <td>2.0</td>\n",
       "      <td>reversable</td>\n",
       "      <td>Yes</td>\n",
       "    </tr>\n",
       "    <tr>\n",
       "      <th>3</th>\n",
       "      <td>4</td>\n",
       "      <td>37</td>\n",
       "      <td>1</td>\n",
       "      <td>nonanginal</td>\n",
       "      <td>130</td>\n",
       "      <td>250</td>\n",
       "      <td>0</td>\n",
       "      <td>0</td>\n",
       "      <td>187</td>\n",
       "      <td>0</td>\n",
       "      <td>3.5</td>\n",
       "      <td>3</td>\n",
       "      <td>0.0</td>\n",
       "      <td>normal</td>\n",
       "      <td>No</td>\n",
       "    </tr>\n",
       "    <tr>\n",
       "      <th>4</th>\n",
       "      <td>5</td>\n",
       "      <td>41</td>\n",
       "      <td>0</td>\n",
       "      <td>nontypical</td>\n",
       "      <td>130</td>\n",
       "      <td>204</td>\n",
       "      <td>0</td>\n",
       "      <td>2</td>\n",
       "      <td>172</td>\n",
       "      <td>0</td>\n",
       "      <td>1.4</td>\n",
       "      <td>1</td>\n",
       "      <td>0.0</td>\n",
       "      <td>normal</td>\n",
       "      <td>No</td>\n",
       "    </tr>\n",
       "  </tbody>\n",
       "</table>\n",
       "</div>"
      ],
      "text/plain": [
       "   Unnamed: 0  Age  Sex     ChestPain  RestBP  Chol  Fbs  RestECG  MaxHR  \\\n",
       "0           1   63    1       typical     145   233    1        2    150   \n",
       "1           2   67    1  asymptomatic     160   286    0        2    108   \n",
       "2           3   67    1  asymptomatic     120   229    0        2    129   \n",
       "3           4   37    1    nonanginal     130   250    0        0    187   \n",
       "4           5   41    0    nontypical     130   204    0        2    172   \n",
       "\n",
       "   ExAng  Oldpeak  Slope   Ca        Thal  AHD  \n",
       "0      0      2.3      3  0.0       fixed   No  \n",
       "1      1      1.5      2  3.0      normal  Yes  \n",
       "2      1      2.6      2  2.0  reversable  Yes  \n",
       "3      0      3.5      3  0.0      normal   No  \n",
       "4      0      1.4      1  0.0      normal   No  "
      ]
     },
     "execution_count": 2,
     "metadata": {},
     "output_type": "execute_result"
    }
   ],
   "source": [
    "# Load the data\n",
    "path: str = r\"Datasets\\Question-2\\heart.csv\"\n",
    "df: pd.DataFrame = pd.read_csv(path)\n",
    "\n",
    "df.head()"
   ]
  },
  {
   "attachments": {},
   "cell_type": "markdown",
   "metadata": {},
   "source": [
    "### **Preprocessing the Data**\n",
    "\n",
    "The data is preprocessed to remove the unwanted columns. Some columns are converted to numerical values using One Hot Encoding."
   ]
  },
  {
   "cell_type": "code",
   "execution_count": 3,
   "metadata": {},
   "outputs": [],
   "source": [
    "# One Hot Encode df[\"ChestPain\"] and df[\"Thal\"] and drop the original columns\n",
    "for col in [\"typical\", \"asymptomatic\", \"nonanginal\", \"nontypical\"]:\n",
    "    df[col] = (df[\"ChestPain\"] == col).astype(int)\n",
    "df.drop(\"ChestPain\", axis=1, inplace=True)"
   ]
  },
  {
   "cell_type": "code",
   "execution_count": 4,
   "metadata": {},
   "outputs": [],
   "source": [
    "# One Hot Encode df[\"Thal\"] and drop the column\n",
    "for col in [\"fixed\", \"normal\", \"reversable\"]:\n",
    "    df[col] = (df[\"Thal\"] == col).astype(int)\n",
    "df.drop(\"Thal\", axis=1, inplace=True)"
   ]
  },
  {
   "cell_type": "code",
   "execution_count": 5,
   "metadata": {},
   "outputs": [],
   "source": [
    "# Drop the Unnamed id column and nan rows\n",
    "df.dropna(inplace=True)\n",
    "df.drop(\"Unnamed: 0\", axis=1, inplace=True)"
   ]
  },
  {
   "cell_type": "code",
   "execution_count": 6,
   "metadata": {},
   "outputs": [],
   "source": [
    "# Preprocess the target column\n",
    "df[\"Target\"] = (df[\"AHD\"] == \"Yes\").astype(int)\n",
    "df.drop(\"AHD\", axis=1, inplace=True)"
   ]
  },
  {
   "cell_type": "code",
   "execution_count": 7,
   "metadata": {},
   "outputs": [
    {
     "data": {
      "text/html": [
       "<div>\n",
       "<style scoped>\n",
       "    .dataframe tbody tr th:only-of-type {\n",
       "        vertical-align: middle;\n",
       "    }\n",
       "\n",
       "    .dataframe tbody tr th {\n",
       "        vertical-align: top;\n",
       "    }\n",
       "\n",
       "    .dataframe thead th {\n",
       "        text-align: right;\n",
       "    }\n",
       "</style>\n",
       "<table border=\"1\" class=\"dataframe\">\n",
       "  <thead>\n",
       "    <tr style=\"text-align: right;\">\n",
       "      <th></th>\n",
       "      <th>Age</th>\n",
       "      <th>Sex</th>\n",
       "      <th>RestBP</th>\n",
       "      <th>Chol</th>\n",
       "      <th>Fbs</th>\n",
       "      <th>RestECG</th>\n",
       "      <th>MaxHR</th>\n",
       "      <th>ExAng</th>\n",
       "      <th>Oldpeak</th>\n",
       "      <th>Slope</th>\n",
       "      <th>Ca</th>\n",
       "      <th>typical</th>\n",
       "      <th>asymptomatic</th>\n",
       "      <th>nonanginal</th>\n",
       "      <th>nontypical</th>\n",
       "      <th>fixed</th>\n",
       "      <th>normal</th>\n",
       "      <th>reversable</th>\n",
       "      <th>Target</th>\n",
       "    </tr>\n",
       "  </thead>\n",
       "  <tbody>\n",
       "    <tr>\n",
       "      <th>0</th>\n",
       "      <td>0.708333</td>\n",
       "      <td>1.0</td>\n",
       "      <td>0.481132</td>\n",
       "      <td>0.244292</td>\n",
       "      <td>1.0</td>\n",
       "      <td>1.0</td>\n",
       "      <td>0.603053</td>\n",
       "      <td>0.0</td>\n",
       "      <td>0.370968</td>\n",
       "      <td>1.0</td>\n",
       "      <td>0.000000</td>\n",
       "      <td>1.0</td>\n",
       "      <td>0.0</td>\n",
       "      <td>0.0</td>\n",
       "      <td>0.0</td>\n",
       "      <td>1.0</td>\n",
       "      <td>0.0</td>\n",
       "      <td>0.0</td>\n",
       "      <td>0</td>\n",
       "    </tr>\n",
       "    <tr>\n",
       "      <th>1</th>\n",
       "      <td>0.791667</td>\n",
       "      <td>1.0</td>\n",
       "      <td>0.622642</td>\n",
       "      <td>0.365297</td>\n",
       "      <td>0.0</td>\n",
       "      <td>1.0</td>\n",
       "      <td>0.282443</td>\n",
       "      <td>1.0</td>\n",
       "      <td>0.241935</td>\n",
       "      <td>0.5</td>\n",
       "      <td>1.000000</td>\n",
       "      <td>0.0</td>\n",
       "      <td>1.0</td>\n",
       "      <td>0.0</td>\n",
       "      <td>0.0</td>\n",
       "      <td>0.0</td>\n",
       "      <td>1.0</td>\n",
       "      <td>0.0</td>\n",
       "      <td>1</td>\n",
       "    </tr>\n",
       "    <tr>\n",
       "      <th>2</th>\n",
       "      <td>0.791667</td>\n",
       "      <td>1.0</td>\n",
       "      <td>0.245283</td>\n",
       "      <td>0.235160</td>\n",
       "      <td>0.0</td>\n",
       "      <td>1.0</td>\n",
       "      <td>0.442748</td>\n",
       "      <td>1.0</td>\n",
       "      <td>0.419355</td>\n",
       "      <td>0.5</td>\n",
       "      <td>0.666667</td>\n",
       "      <td>0.0</td>\n",
       "      <td>1.0</td>\n",
       "      <td>0.0</td>\n",
       "      <td>0.0</td>\n",
       "      <td>0.0</td>\n",
       "      <td>0.0</td>\n",
       "      <td>1.0</td>\n",
       "      <td>1</td>\n",
       "    </tr>\n",
       "    <tr>\n",
       "      <th>3</th>\n",
       "      <td>0.166667</td>\n",
       "      <td>1.0</td>\n",
       "      <td>0.339623</td>\n",
       "      <td>0.283105</td>\n",
       "      <td>0.0</td>\n",
       "      <td>0.0</td>\n",
       "      <td>0.885496</td>\n",
       "      <td>0.0</td>\n",
       "      <td>0.564516</td>\n",
       "      <td>1.0</td>\n",
       "      <td>0.000000</td>\n",
       "      <td>0.0</td>\n",
       "      <td>0.0</td>\n",
       "      <td>1.0</td>\n",
       "      <td>0.0</td>\n",
       "      <td>0.0</td>\n",
       "      <td>1.0</td>\n",
       "      <td>0.0</td>\n",
       "      <td>0</td>\n",
       "    </tr>\n",
       "    <tr>\n",
       "      <th>4</th>\n",
       "      <td>0.250000</td>\n",
       "      <td>0.0</td>\n",
       "      <td>0.339623</td>\n",
       "      <td>0.178082</td>\n",
       "      <td>0.0</td>\n",
       "      <td>1.0</td>\n",
       "      <td>0.770992</td>\n",
       "      <td>0.0</td>\n",
       "      <td>0.225806</td>\n",
       "      <td>0.0</td>\n",
       "      <td>0.000000</td>\n",
       "      <td>0.0</td>\n",
       "      <td>0.0</td>\n",
       "      <td>0.0</td>\n",
       "      <td>1.0</td>\n",
       "      <td>0.0</td>\n",
       "      <td>1.0</td>\n",
       "      <td>0.0</td>\n",
       "      <td>0</td>\n",
       "    </tr>\n",
       "  </tbody>\n",
       "</table>\n",
       "</div>"
      ],
      "text/plain": [
       "        Age  Sex    RestBP      Chol  Fbs  RestECG     MaxHR  ExAng   Oldpeak  \\\n",
       "0  0.708333  1.0  0.481132  0.244292  1.0      1.0  0.603053    0.0  0.370968   \n",
       "1  0.791667  1.0  0.622642  0.365297  0.0      1.0  0.282443    1.0  0.241935   \n",
       "2  0.791667  1.0  0.245283  0.235160  0.0      1.0  0.442748    1.0  0.419355   \n",
       "3  0.166667  1.0  0.339623  0.283105  0.0      0.0  0.885496    0.0  0.564516   \n",
       "4  0.250000  0.0  0.339623  0.178082  0.0      1.0  0.770992    0.0  0.225806   \n",
       "\n",
       "   Slope        Ca  typical  asymptomatic  nonanginal  nontypical  fixed  \\\n",
       "0    1.0  0.000000      1.0           0.0         0.0         0.0    1.0   \n",
       "1    0.5  1.000000      0.0           1.0         0.0         0.0    0.0   \n",
       "2    0.5  0.666667      0.0           1.0         0.0         0.0    0.0   \n",
       "3    1.0  0.000000      0.0           0.0         1.0         0.0    0.0   \n",
       "4    0.0  0.000000      0.0           0.0         0.0         1.0    0.0   \n",
       "\n",
       "   normal  reversable  Target  \n",
       "0     0.0         0.0       0  \n",
       "1     1.0         0.0       1  \n",
       "2     0.0         1.0       1  \n",
       "3     1.0         0.0       0  \n",
       "4     1.0         0.0       0  "
      ]
     },
     "execution_count": 7,
     "metadata": {},
     "output_type": "execute_result"
    }
   ],
   "source": [
    "# Normalize the data\n",
    "outcome = df[\"Target\"]\n",
    "df.drop(\"Target\", axis=1, inplace=True)\n",
    "df = (df - df.min()) / (df.max() - df.min())\n",
    "df[\"Target\"] = outcome\n",
    "df.head()"
   ]
  },
  {
   "attachments": {},
   "cell_type": "markdown",
   "metadata": {},
   "source": [
    "### **Data Anaysis**\n",
    "\n",
    "The data is plotted on graphs to find our patterns and relationships among the features."
   ]
  },
  {
   "cell_type": "code",
   "execution_count": 8,
   "metadata": {},
   "outputs": [
    {
     "data": {
      "image/png": "[encoded data removed]",
      "text/plain": [
       "<Figure size 1200x800 with 4 Axes>"
      ]
     },
     "metadata": {},
     "output_type": "display_data"
    }
   ],
   "source": [
    "plot = plt.figure(figsize=(12, 8))\n",
    "\n",
    "for i, col in enumerate([\"Age\", \"Chol\", \"MaxHR\", \"Oldpeak\"], start=1):\n",
    "    plt.subplot(2, 2, i)\n",
    "\n",
    "    col0 = list(df[df[\"Target\"] == 0][col])\n",
    "    col1 = list(df[df[\"Target\"] == 1][col])\n",
    "    plt.scatter(col0, [col0.count(i) for i in col0], label=\"AHD = 0\")\n",
    "    plt.scatter(col1, [col1.count(i) for i in col1], label=\"AHD = 1\")\n",
    "    plt.xlabel(col)\n",
    "\n",
    "    plt.xticks(np.arange(0, 1.1, 0.1))\n",
    "    plt.ylabel(\"Number of People\")\n",
    "    plt.grid(True)\n",
    "    plt.legend()\n",
    "\n",
    "plt.show()"
   ]
  },
  {
   "attachments": {},
   "cell_type": "markdown",
   "metadata": {},
   "source": [
    "## **Train-Test Split**\n",
    "\n",
    "Since the test set is not provided, the training set is split into test sets using a randomized 80-20 split."
   ]
  },
  {
   "cell_type": "code",
   "execution_count": 9,
   "metadata": {},
   "outputs": [],
   "source": [
    "# Shuffle the data\n",
    "train_size: int = int(0.8 * df.shape[0])\n",
    "df = df.sample(frac=1).reset_index(drop=True)\n",
    "\n",
    "# Split the data into training and testing\n",
    "x_train: np.ndarray = df.iloc[:train_size, :-1].values\n",
    "y_train: np.ndarray = df.iloc[:train_size, -1].values\n",
    "x_test: np.ndarray = df.iloc[train_size:, :-1].values\n",
    "y_test: np.ndarray = df.iloc[train_size:, -1].values"
   ]
  },
  {
   "attachments": {},
   "cell_type": "markdown",
   "metadata": {},
   "source": [
    "### **Perform Logistic Regression**\n",
    "\n",
    "Having preprocessed and analysed the data, we now perform logistic regression on the data.\n",
    "The data is classified into binary clusters using `LogisticRegression` implemented in `utils.py`. \n",
    "\n",
    "The accuracy of the model is also calculated."
   ]
  },
  {
   "cell_type": "code",
   "execution_count": 10,
   "metadata": {},
   "outputs": [
    {
     "name": "stdout",
     "output_type": "stream",
     "text": [
      "Accuracy: 90.0%\n"
     ]
    }
   ],
   "source": [
    "# Train the model for the data\n",
    "model = LogisticRegression(x_train, y_train, alpha=1e-3, tol=1e-4, max_iters=1e+7)\n",
    "model.train()\n",
    "\n",
    "# Calculate the accuracy\n",
    "print(f\"Accuracy: {model.accuracy(x_test, y_test) * 100}%\")"
   ]
  },
  {
   "attachments": {},
   "cell_type": "markdown",
   "metadata": {},
   "source": [
    "### **Dimensionality Reduction using FDA**\n",
    "\n",
    "A copy of the training and testing data is made and the dimensionality of the data is reduced using `FDA` implemented in `utils.py`. \n",
    "\n",
    "Logistic Regression is applied on the reduced data and the accuracy is calculated again."
   ]
  },
  {
   "cell_type": "code",
   "execution_count": 11,
   "metadata": {},
   "outputs": [
    {
     "name": "stdout",
     "output_type": "stream",
     "text": [
      "Transformed Training Data using FDA\n",
      "Transformed Testing Data using FDA\n"
     ]
    }
   ],
   "source": [
    "# Fit the training data using FDA\n",
    "trainer = FDA(x_train, y_train)\n",
    "fda_train = trainer.transform()\n",
    "print(\"Transformed Training Data using FDA\")\n",
    "\n",
    "# Fit the testing data using FDA\n",
    "tester = FDA(x_test, y_test)\n",
    "fda_test = tester.transform()\n",
    "print(\"Transformed Testing Data using FDA\")"
   ]
  },
  {
   "cell_type": "code",
   "execution_count": 12,
   "metadata": {},
   "outputs": [
    {
     "data": {
      "image/png": "[encoded data removed]",
      "text/plain": [
       "<Figure size 640x480 with 1 Axes>"
      ]
     },
     "metadata": {},
     "output_type": "display_data"
    }
   ],
   "source": [
    "# Plot the data\n",
    "plt.hist(fda_train[y_train == 0], label=\"AHD = 0\", alpha=0.75, bins=70)\n",
    "plt.hist(fda_train[y_train == 1], label=\"AHD = 1\", alpha=0.75, bins=70)\n",
    "plt.xlabel(\"FDA\")\n",
    "plt.ylabel(\"Number of People\")\n",
    "plt.grid(True)\n",
    "plt.legend()\n",
    "plt.show()"
   ]
  },
  {
   "cell_type": "code",
   "execution_count": 13,
   "metadata": {},
   "outputs": [
    {
     "name": "stdout",
     "output_type": "stream",
     "text": [
      "Accuracy: 71.66666666666667%\n"
     ]
    }
   ],
   "source": [
    "# Train the model for the data\n",
    "fda_train = fda_train.reshape(-1, 1)\n",
    "model = LogisticRegression(fda_train, y_train, alpha=1e-3, tol=1e-4, max_iters=1e+7)\n",
    "model.train()\n",
    "\n",
    "# Calculate the accuracy\n",
    "fda_test = fda_test.reshape(-1, 1)\n",
    "print(f\"Accuracy: {model.accuracy(fda_test, y_test) * 100}%\")"
   ]
  },
  {
   "attachments": {},
   "cell_type": "markdown",
   "metadata": {},
   "source": [
    "### **Dimensionality Reduction using PCA and FDA**\n",
    "\n",
    "A copy of the training and testing data is made and the dimensionality of the data is reduced using the PCA algorithm. This data is then reduced using FDA, as above. \n",
    "\n",
    "Logistic Regression is applied on the reduced data and the accuracy is calculated again."
   ]
  },
  {
   "cell_type": "code",
   "execution_count": 14,
   "metadata": {},
   "outputs": [
    {
     "name": "stdout",
     "output_type": "stream",
     "text": [
      "Transformed Training Data in 5, 10, and 15 dimensions\n",
      "Transformed Testing Data in 5, 10, and 15 dimensions\n"
     ]
    }
   ],
   "source": [
    "# Create PCAs for 5, 10, and 15 dimensions\n",
    "pca05 = PCA(n_components=5)\n",
    "pca10 = PCA(n_components=10)\n",
    "pca15 = PCA(n_components=15)\n",
    "\n",
    "# Fit the training data in 5, 10, and 15 dimensions\n",
    "pca05.fit(x_train)\n",
    "x_train05 = pca05.transform(x_train)\n",
    "\n",
    "pca10.fit(x_train)\n",
    "x_train10 = pca10.transform(x_train)\n",
    "\n",
    "pca15.fit(x_train)\n",
    "x_train15 = pca15.transform(x_train)\n",
    "\n",
    "print(\"Transformed Training Data in 5, 10, and 15 dimensions\")\n",
    "\n",
    "# Fit the testing data in 5, 10, and 15 dimensions\n",
    "x_test05 = pca05.transform(x_test)\n",
    "x_test10 = pca10.transform(x_test)\n",
    "x_test15 = pca15.transform(x_test)\n",
    "\n",
    "print(\"Transformed Testing Data in 5, 10, and 15 dimensions\")"
   ]
  },
  {
   "cell_type": "code",
   "execution_count": 15,
   "metadata": {},
   "outputs": [
    {
     "name": "stdout",
     "output_type": "stream",
     "text": [
      "Transformed Training Data using FDA\n",
      "Transformed Testing Data using FDA\n"
     ]
    }
   ],
   "source": [
    "# Fit the training data using FDA\n",
    "trainer05 = FDA(x_train05, y_train)\n",
    "fda_train05 = trainer05.transform()\n",
    "\n",
    "trainer10 = FDA(x_train10, y_train)\n",
    "fda_train10 = trainer10.transform()\n",
    "\n",
    "trainer15 = FDA(x_train15, y_train)\n",
    "fda_train15 = trainer15.transform()\n",
    "\n",
    "print(\"Transformed Training Data using FDA\")\n",
    "\n",
    "# Fit the testing data using FDA\n",
    "tester05 = FDA(x_test05, y_test)\n",
    "fda_test05 = tester05.transform()\n",
    "\n",
    "tester10 = FDA(x_test10, y_test)\n",
    "fda_test10 = tester10.transform()\n",
    "\n",
    "tester15 = FDA(x_test15, y_test)\n",
    "fda_test15 = tester15.transform()\n",
    "\n",
    "print(\"Transformed Testing Data using FDA\")"
   ]
  },
  {
   "cell_type": "code",
   "execution_count": 16,
   "metadata": {},
   "outputs": [
    {
     "data": {
      "image/png": "[encoded data removed]",
      "text/plain": [
       "<Figure size 1400x350 with 3 Axes>"
      ]
     },
     "metadata": {},
     "output_type": "display_data"
    }
   ],
   "source": [
    "# Plot the data\n",
    "plt.figure(figsize=(14, 3.5))\n",
    "\n",
    "plt.subplot(1, 3, 1)\n",
    "plt.hist(fda_train05[y_train == 0], label=\"AHD = 0\", alpha=0.75, bins=70)\n",
    "plt.hist(fda_train05[y_train == 1], label=\"AHD = 1\", alpha=0.75, bins=70)\n",
    "plt.xlabel(\"FDA-5\")\n",
    "plt.ylabel(\"Number of People\")\n",
    "plt.grid(True)\n",
    "plt.legend()\n",
    "\n",
    "plt.subplot(1, 3, 2)\n",
    "plt.hist(fda_train10[y_train == 0], label=\"AHD = 0\", alpha=0.75, bins=70)\n",
    "plt.hist(fda_train10[y_train == 1], label=\"AHD = 1\", alpha=0.75, bins=70)\n",
    "plt.xlabel(\"FDA-10\")\n",
    "plt.ylabel(\"Number of People\")\n",
    "plt.grid(True)\n",
    "plt.legend()\n",
    "\n",
    "plt.subplot(1, 3, 3)\n",
    "plt.hist(fda_train15[y_train == 0], label=\"AHD = 0\", alpha=0.75, bins=70)\n",
    "plt.hist(fda_train15[y_train == 1], label=\"AHD = 1\", alpha=0.75, bins=70)\n",
    "plt.xlabel(\"FDA-15\")\n",
    "plt.ylabel(\"Number of People\")\n",
    "plt.grid(True)\n",
    "plt.legend()\n",
    "\n",
    "plt.show()"
   ]
  },
  {
   "cell_type": "code",
   "execution_count": 17,
   "metadata": {},
   "outputs": [
    {
     "name": "stdout",
     "output_type": "stream",
     "text": [
      "Accuracy (PCA-05 + FDA): 86.66666666666667%\n",
      "Accuracy (PCA-10 + FDA): 93.33333333333333%\n",
      "Accuracy (PCA-15 + FDA): 93.33333333333333%\n"
     ]
    }
   ],
   "source": [
    "# Reshape Training Data\n",
    "fda_train05 = fda_train05.reshape(-1, 1)\n",
    "fda_train10 = fda_train10.reshape(-1, 1)\n",
    "fda_train15 = fda_train15.reshape(-1, 1)\n",
    "\n",
    "# Train the model for the data\n",
    "model05 = LogisticRegression(fda_train05, y_train, alpha=1e-3, tol=1e-4, max_iters=1e+7)\n",
    "model10 = LogisticRegression(fda_train10, y_train, alpha=1e-3, tol=1e-4, max_iters=1e+7)\n",
    "model15 = LogisticRegression(fda_train15, y_train, alpha=1e-3, tol=1e-4, max_iters=1e+7)\n",
    "\n",
    "model05.train()\n",
    "model10.train()\n",
    "model15.train()\n",
    "\n",
    "# Reshape Testing Data\n",
    "fda_test05 = fda_test05.reshape(-1, 1)\n",
    "fda_test10 = fda_test10.reshape(-1, 1)\n",
    "fda_test15 = fda_test15.reshape(-1, 1)\n",
    "\n",
    "# Calculate the accuracy\n",
    "print(f\"Accuracy (PCA-05 + FDA): {model05.accuracy(fda_test05, y_test) * 100}%\")\n",
    "print(f\"Accuracy (PCA-10 + FDA): {model10.accuracy(fda_test10, y_test) * 100}%\")\n",
    "print(f\"Accuracy (PCA-15 + FDA): {model15.accuracy(fda_test15, y_test) * 100}%\")\n"
   ]
  }
 ],
 "metadata": {
  "kernelspec": {
   "display_name": "Python 3",
   "language": "python",
   "name": "python3"
  },
  "language_info": {
   "codemirror_mode": {
    "name": "ipython",
    "version": 3
   },
   "file_extension": ".py",
   "mimetype": "text/x-python",
   "name": "python",
   "nbconvert_exporter": "python",
   "pygments_lexer": "ipython3",
   "version": "3.11.0"
  },
  "orig_nbformat": 4,
  "vscode": {
   "interpreter": {
    "hash": "8ccd1fcf802e31b9f67d4b512358d87683d9d81bc8fb630258f242441903a73f"
   }
  }
 },
 "nbformat": 4,
 "nbformat_minor": 2
}
