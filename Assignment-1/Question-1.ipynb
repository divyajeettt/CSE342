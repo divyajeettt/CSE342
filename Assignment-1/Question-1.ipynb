{
 "cells": [
  {
   "cell_type": "code",
   "execution_count": 1,
   "metadata": {},
   "outputs": [],
   "source": [
    "import os\n",
    "import cv2\n",
    "import numpy as np\n",
    "from utils import PCA, KNN\n",
    "import matplotlib.pyplot as plt"
   ]
  },
  {
   "cell_type": "code",
   "execution_count": 2,
   "metadata": {},
   "outputs": [
    {
     "name": "stdout",
     "output_type": "stream",
     "text": [
      "Loaded 4132 images of 0\n",
      "Loaded 4684 images of 1\n",
      "Loaded 4177 images of 2\n",
      "Loaded 4351 images of 3\n",
      "Loaded 4072 images of 4\n",
      "Loaded 3795 images of 5\n",
      "Loaded 4137 images of 6\n",
      "Loaded 4401 images of 7\n",
      "Loaded 4063 images of 8\n",
      "Loaded 4188 images of 9\n"
     ]
    }
   ],
   "source": [
    "# Preprocessing\n",
    "\n",
    "path: str = r\".\\Datasets\\Question-1\\trainingSet\\trainingSet\"\n",
    "\n",
    "images: list[cv2.imread] = []\n",
    "target: list[str] = []\n",
    "\n",
    "# Read the images\n",
    "for num in range(0, 10, 1):\n",
    "    for file in os.listdir(directory := os.path.join(path, str(num))):\n",
    "        target.append(str(num))\n",
    "        im_path = os.path.join(directory, file)\n",
    "        image = cv2.imread(im_path, cv2.IMREAD_GRAYSCALE)\n",
    "        image.resize((28, 28))\n",
    "        images.append(image)\n",
    "    print(f\"Loaded {len(os.listdir(directory))} images of {num}\")\n",
    "\n",
    "# Convert the data to numpy arrays\n",
    "images = np.array(images)\n",
    "target = np.array(target)\n",
    "\n",
    "# Flatten the images\n",
    "images = images.reshape(images.shape[0], -1)"
   ]
  },
  {
   "cell_type": "code",
   "execution_count": 3,
   "metadata": {},
   "outputs": [],
   "source": [
    "pca = PCA(images)\n",
    "\n",
    "# Fit the data into 5, 25, and 125 dimensions\n",
    "images_pca5 = pca.fit(images, 5)\n",
    "images_pca25 = pca.fit(images, 25)\n",
    "images_pca125 = pca.fit(images, 125)"
   ]
  },
  {
   "cell_type": "code",
   "execution_count": 4,
   "metadata": {},
   "outputs": [
    {
     "ename": "FileNotFoundError",
     "evalue": "[WinError 3] The system cannot find the path specified: '.\\\\Datasets\\\\Question-1\\\\testSet\\\\testSet\\\\0'",
     "output_type": "error",
     "traceback": [
      "\u001b[1;31m---------------------------------------------------------------------------\u001b[0m",
      "\u001b[1;31mFileNotFoundError\u001b[0m                         Traceback (most recent call last)",
      "Cell \u001b[1;32mIn [4], line 10\u001b[0m\n\u001b[0;32m      8\u001b[0m \u001b[39m# Read the images\u001b[39;00m\n\u001b[0;32m      9\u001b[0m \u001b[39mfor\u001b[39;00m num \u001b[39min\u001b[39;00m \u001b[39mrange\u001b[39m(\u001b[39m0\u001b[39m, \u001b[39m10\u001b[39m, \u001b[39m1\u001b[39m):\n\u001b[1;32m---> 10\u001b[0m     \u001b[39mfor\u001b[39;00m file \u001b[39min\u001b[39;00m os\u001b[39m.\u001b[39;49mlistdir(directory \u001b[39m:=\u001b[39;49m os\u001b[39m.\u001b[39;49mpath\u001b[39m.\u001b[39;49mjoin(path, \u001b[39mstr\u001b[39;49m(num))):\n\u001b[0;32m     11\u001b[0m         test_target\u001b[39m.\u001b[39mappend(\u001b[39mstr\u001b[39m(num))\n\u001b[0;32m     12\u001b[0m         im_path \u001b[39m=\u001b[39m os\u001b[39m.\u001b[39mpath\u001b[39m.\u001b[39mjoin(directory, file)\n",
      "\u001b[1;31mFileNotFoundError\u001b[0m: [WinError 3] The system cannot find the path specified: '.\\\\Datasets\\\\Question-1\\\\testSet\\\\testSet\\\\0'"
     ]
    }
   ],
   "source": [
    "# Load the test data\n",
    "\n",
    "path: str = r\".\\Datasets\\Question-1\\testSet\\testSet\"\n",
    "\n",
    "test_images: list[cv2.imread] = []\n",
    "test_target: list[str] = []\n",
    "\n",
    "# Read the images\n",
    "for num in range(0, 10, 1):\n",
    "    for file in os.listdir(directory := os.path.join(path, str(num))):\n",
    "        test_target.append(str(num))\n",
    "        im_path = os.path.join(directory, file)\n",
    "        image = cv2.imread(im_path, cv2.IMREAD_GRAYSCALE)\n",
    "        image.resize((28, 28))\n",
    "        test_images.append(image)\n",
    "    print(f\"Loaded {len(os.listdir(directory))} images of {num}\")"
   ]
  }
 ],
 "metadata": {
  "kernelspec": {
   "display_name": "Python 3",
   "language": "python",
   "name": "python3"
  },
  "language_info": {
   "codemirror_mode": {
    "name": "ipython",
    "version": 3
   },
   "file_extension": ".py",
   "mimetype": "text/x-python",
   "name": "python",
   "nbconvert_exporter": "python",
   "pygments_lexer": "ipython3",
   "version": "3.11.0"
  },
  "orig_nbformat": 4,
  "vscode": {
   "interpreter": {
    "hash": "8ccd1fcf802e31b9f67d4b512358d87683d9d81bc8fb630258f242441903a73f"
   }
  }
 },
 "nbformat": 4,
 "nbformat_minor": 2
}
